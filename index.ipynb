{
 "cells": [
  {
   "cell_type": "markdown",
   "metadata": {},
   "source": [
    "# Amazon Web Services - Section Recap\n",
    "\n",
    "## Introduction\n",
    "\n",
    "In this lesson, we'll review the important points we've learned about AWS for data science!\n",
    "\n",
    "\n",
    "* AWS is a **_Cloud-Computing Platform_** which we can use for a variety of use cases in data science.\n",
    "* In this section, we learned about how to sign up for AWS, and how to make sure that we have the right region selected when working in AWS.\n",
    "* Amazon has centralized all of the major data science services inside **_Amazon SageMaker_**. SageMaker provides numerous services for things such as:\n",
    "    * Data Labeling\n",
    "    * Cloud-based Notebooks\n",
    "    * Training and Model Tuning\n",
    "    * Inference\n",
    "* We can set up our own models, or use the preexisting models provided by AWS. Similarly, we can setg up our own inference endpoints, or make use of preexisting endpoints created by AWS. \n",
    "* Creating our own endpoint requires us to use a docker instance, as we saw in the previous codealong. Much of the work required to create an endpoint for our own model is boilerplate, and we can use it again and again across multiple projects. "
   ]
  }
 ],
 "metadata": {
  "kernelspec": {
   "display_name": "Python 3",
   "language": "python",
   "name": "python3"
  },
  "language_info": {
   "codemirror_mode": {
    "name": "ipython",
    "version": 3
   },
   "file_extension": ".py",
   "mimetype": "text/x-python",
   "name": "python",
   "nbconvert_exporter": "python",
   "pygments_lexer": "ipython3",
   "version": "3.6.6"
  }
 },
 "nbformat": 4,
 "nbformat_minor": 2
}
